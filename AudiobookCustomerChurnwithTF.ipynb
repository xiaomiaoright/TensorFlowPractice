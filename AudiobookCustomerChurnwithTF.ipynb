{
 "cells": [
  {
   "cell_type": "markdown",
   "metadata": {},
   "source": [
    "# load packages"
   ]
  },
  {
   "cell_type": "code",
   "execution_count": 29,
   "metadata": {},
   "outputs": [],
   "source": [
    "import numpy as np\n",
    "import pandas as pd\n",
    "import tensorflow as tf\n",
    "import matplotlib.pyplot as plt\n",
    "from sklearn import preprocessing"
   ]
  },
  {
   "cell_type": "markdown",
   "metadata": {},
   "source": [
    "# Load dataset and Data Processing"
   ]
  },
  {
   "cell_type": "code",
   "execution_count": 15,
   "metadata": {},
   "outputs": [],
   "source": [
    "df = pd.read_csv('Audobook_data.csv', header=0)"
   ]
  },
  {
   "cell_type": "code",
   "execution_count": 16,
   "metadata": {},
   "outputs": [],
   "source": [
    "df.columns = ['ID', 'Book length overall', ' Book length avg', 'price overall', 'price avg', 'reviewed','ReviewRate','minutes listened','completion','support request','last visit minus purchase date', 'Targets'\n",
    "]"
   ]
  },
  {
   "cell_type": "code",
   "execution_count": 17,
   "metadata": {},
   "outputs": [
    {
     "output_type": "stream",
     "name": "stdout",
     "text": "(14083, 12)\n"
    },
    {
     "output_type": "execute_result",
     "data": {
      "text/plain": "    ID  Book length overall   Book length avg  price overall  price avg  \\\n0  611               1404.0              2808           6.66      13.33   \n1  705                324.0               324          10.13      10.13   \n2  391               1620.0              1620          15.31      15.31   \n3  819                432.0              1296           7.11      21.33   \n4  138               2160.0              2160          10.13      10.13   \n\n   reviewed  ReviewRate  minutes listened  completion  support request  \\\n0         1         6.5               0.0         0.0                0   \n1         1         9.0               0.0         0.0                1   \n2         0         9.0               0.0         0.0                0   \n3         1         9.0               0.0         0.0                0   \n4         1         9.0               0.0         0.0                0   \n\n   last visit minus purchase date  Targets  \n0                             182        1  \n1                             334        1  \n2                             183        1  \n3                               0        1  \n4                               5        1  ",
      "text/html": "<div>\n<style scoped>\n    .dataframe tbody tr th:only-of-type {\n        vertical-align: middle;\n    }\n\n    .dataframe tbody tr th {\n        vertical-align: top;\n    }\n\n    .dataframe thead th {\n        text-align: right;\n    }\n</style>\n<table border=\"1\" class=\"dataframe\">\n  <thead>\n    <tr style=\"text-align: right;\">\n      <th></th>\n      <th>ID</th>\n      <th>Book length overall</th>\n      <th>Book length avg</th>\n      <th>price overall</th>\n      <th>price avg</th>\n      <th>reviewed</th>\n      <th>ReviewRate</th>\n      <th>minutes listened</th>\n      <th>completion</th>\n      <th>support request</th>\n      <th>last visit minus purchase date</th>\n      <th>Targets</th>\n    </tr>\n  </thead>\n  <tbody>\n    <tr>\n      <th>0</th>\n      <td>611</td>\n      <td>1404.0</td>\n      <td>2808</td>\n      <td>6.66</td>\n      <td>13.33</td>\n      <td>1</td>\n      <td>6.5</td>\n      <td>0.0</td>\n      <td>0.0</td>\n      <td>0</td>\n      <td>182</td>\n      <td>1</td>\n    </tr>\n    <tr>\n      <th>1</th>\n      <td>705</td>\n      <td>324.0</td>\n      <td>324</td>\n      <td>10.13</td>\n      <td>10.13</td>\n      <td>1</td>\n      <td>9.0</td>\n      <td>0.0</td>\n      <td>0.0</td>\n      <td>1</td>\n      <td>334</td>\n      <td>1</td>\n    </tr>\n    <tr>\n      <th>2</th>\n      <td>391</td>\n      <td>1620.0</td>\n      <td>1620</td>\n      <td>15.31</td>\n      <td>15.31</td>\n      <td>0</td>\n      <td>9.0</td>\n      <td>0.0</td>\n      <td>0.0</td>\n      <td>0</td>\n      <td>183</td>\n      <td>1</td>\n    </tr>\n    <tr>\n      <th>3</th>\n      <td>819</td>\n      <td>432.0</td>\n      <td>1296</td>\n      <td>7.11</td>\n      <td>21.33</td>\n      <td>1</td>\n      <td>9.0</td>\n      <td>0.0</td>\n      <td>0.0</td>\n      <td>0</td>\n      <td>0</td>\n      <td>1</td>\n    </tr>\n    <tr>\n      <th>4</th>\n      <td>138</td>\n      <td>2160.0</td>\n      <td>2160</td>\n      <td>10.13</td>\n      <td>10.13</td>\n      <td>1</td>\n      <td>9.0</td>\n      <td>0.0</td>\n      <td>0.0</td>\n      <td>0</td>\n      <td>5</td>\n      <td>1</td>\n    </tr>\n  </tbody>\n</table>\n</div>"
     },
     "metadata": {},
     "execution_count": 17
    }
   ],
   "source": [
    "print(df.shape)\n",
    "df.head()"
   ]
  },
  {
   "cell_type": "code",
   "execution_count": 35,
   "metadata": {},
   "outputs": [
    {
     "output_type": "execute_result",
     "data": {
      "text/plain": "(14083, 12)"
     },
     "metadata": {},
     "execution_count": 35
    }
   ],
   "source": [
    "df.shape"
   ]
  },
  {
   "cell_type": "code",
   "execution_count": 23,
   "metadata": {},
   "outputs": [
    {
     "output_type": "execute_result",
     "data": {
      "text/plain": "                 ID  Book length overall   Book length avg  price overall  \\\ncount  14083.000000         14083.000000      14083.000000   14083.000000   \nmean   16773.620535          1591.241302       1678.574451       7.103576   \nstd     9691.225165           504.335798        654.849284       4.931782   \nmin        2.000000           216.000000        216.000000       3.860000   \n25%     8371.500000          1188.000000       1188.000000       5.330000   \n50%    16715.000000          1620.000000       1620.000000       5.950000   \n75%    25187.500000          2160.000000       2160.000000       8.000000   \nmax    33683.000000          2160.000000       7020.000000     130.940000   \n\n          price avg      reviewed    ReviewRate  minutes listened  \\\ncount  14083.000000  14083.000000  14083.000000      14083.000000   \nmean       7.543621      0.160761      8.909795          0.125668   \nstd        5.560284      0.367324      0.643429          0.241212   \nmin        3.860000      0.000000      1.000000          0.000000   \n25%        5.330000      0.000000      8.910000          0.000000   \n50%        6.070000      0.000000      8.910000          0.000000   \n75%        8.000000      0.000000      8.910000          0.130000   \nmax      130.940000      1.000000     10.000000          1.000000   \n\n         completion  support request  last visit minus purchase date  \\\ncount  14083.000000     14083.000000                    14083.000000   \nmean     118.595166         0.070227                       61.939431   \nstd      268.739618         0.472173                       88.209221   \nmin        0.000000         0.000000                        0.000000   \n25%        0.000000         0.000000                        0.000000   \n50%        0.000000         0.000000                       11.000000   \n75%       64.800000         0.000000                      105.000000   \nmax     2116.800000        30.000000                      464.000000   \n\n            Targets  \ncount  14083.000000  \nmean       0.158773  \nstd        0.365477  \nmin        0.000000  \n25%        0.000000  \n50%        0.000000  \n75%        0.000000  \nmax        1.000000  ",
      "text/html": "<div>\n<style scoped>\n    .dataframe tbody tr th:only-of-type {\n        vertical-align: middle;\n    }\n\n    .dataframe tbody tr th {\n        vertical-align: top;\n    }\n\n    .dataframe thead th {\n        text-align: right;\n    }\n</style>\n<table border=\"1\" class=\"dataframe\">\n  <thead>\n    <tr style=\"text-align: right;\">\n      <th></th>\n      <th>ID</th>\n      <th>Book length overall</th>\n      <th>Book length avg</th>\n      <th>price overall</th>\n      <th>price avg</th>\n      <th>reviewed</th>\n      <th>ReviewRate</th>\n      <th>minutes listened</th>\n      <th>completion</th>\n      <th>support request</th>\n      <th>last visit minus purchase date</th>\n      <th>Targets</th>\n    </tr>\n  </thead>\n  <tbody>\n    <tr>\n      <th>count</th>\n      <td>14083.000000</td>\n      <td>14083.000000</td>\n      <td>14083.000000</td>\n      <td>14083.000000</td>\n      <td>14083.000000</td>\n      <td>14083.000000</td>\n      <td>14083.000000</td>\n      <td>14083.000000</td>\n      <td>14083.000000</td>\n      <td>14083.000000</td>\n      <td>14083.000000</td>\n      <td>14083.000000</td>\n    </tr>\n    <tr>\n      <th>mean</th>\n      <td>16773.620535</td>\n      <td>1591.241302</td>\n      <td>1678.574451</td>\n      <td>7.103576</td>\n      <td>7.543621</td>\n      <td>0.160761</td>\n      <td>8.909795</td>\n      <td>0.125668</td>\n      <td>118.595166</td>\n      <td>0.070227</td>\n      <td>61.939431</td>\n      <td>0.158773</td>\n    </tr>\n    <tr>\n      <th>std</th>\n      <td>9691.225165</td>\n      <td>504.335798</td>\n      <td>654.849284</td>\n      <td>4.931782</td>\n      <td>5.560284</td>\n      <td>0.367324</td>\n      <td>0.643429</td>\n      <td>0.241212</td>\n      <td>268.739618</td>\n      <td>0.472173</td>\n      <td>88.209221</td>\n      <td>0.365477</td>\n    </tr>\n    <tr>\n      <th>min</th>\n      <td>2.000000</td>\n      <td>216.000000</td>\n      <td>216.000000</td>\n      <td>3.860000</td>\n      <td>3.860000</td>\n      <td>0.000000</td>\n      <td>1.000000</td>\n      <td>0.000000</td>\n      <td>0.000000</td>\n      <td>0.000000</td>\n      <td>0.000000</td>\n      <td>0.000000</td>\n    </tr>\n    <tr>\n      <th>25%</th>\n      <td>8371.500000</td>\n      <td>1188.000000</td>\n      <td>1188.000000</td>\n      <td>5.330000</td>\n      <td>5.330000</td>\n      <td>0.000000</td>\n      <td>8.910000</td>\n      <td>0.000000</td>\n      <td>0.000000</td>\n      <td>0.000000</td>\n      <td>0.000000</td>\n      <td>0.000000</td>\n    </tr>\n    <tr>\n      <th>50%</th>\n      <td>16715.000000</td>\n      <td>1620.000000</td>\n      <td>1620.000000</td>\n      <td>5.950000</td>\n      <td>6.070000</td>\n      <td>0.000000</td>\n      <td>8.910000</td>\n      <td>0.000000</td>\n      <td>0.000000</td>\n      <td>0.000000</td>\n      <td>11.000000</td>\n      <td>0.000000</td>\n    </tr>\n    <tr>\n      <th>75%</th>\n      <td>25187.500000</td>\n      <td>2160.000000</td>\n      <td>2160.000000</td>\n      <td>8.000000</td>\n      <td>8.000000</td>\n      <td>0.000000</td>\n      <td>8.910000</td>\n      <td>0.130000</td>\n      <td>64.800000</td>\n      <td>0.000000</td>\n      <td>105.000000</td>\n      <td>0.000000</td>\n    </tr>\n    <tr>\n      <th>max</th>\n      <td>33683.000000</td>\n      <td>2160.000000</td>\n      <td>7020.000000</td>\n      <td>130.940000</td>\n      <td>130.940000</td>\n      <td>1.000000</td>\n      <td>10.000000</td>\n      <td>1.000000</td>\n      <td>2116.800000</td>\n      <td>30.000000</td>\n      <td>464.000000</td>\n      <td>1.000000</td>\n    </tr>\n  </tbody>\n</table>\n</div>"
     },
     "metadata": {},
     "execution_count": 23
    }
   ],
   "source": [
    "df.describe()"
   ]
  },
  {
   "cell_type": "code",
   "execution_count": 24,
   "metadata": {},
   "outputs": [
    {
     "output_type": "execute_result",
     "data": {
      "text/plain": "0    11847\n1     2236\nName: Targets, dtype: int64"
     },
     "metadata": {},
     "execution_count": 24
    }
   ],
   "source": [
    "df['Targets'].value_counts()"
   ]
  },
  {
   "cell_type": "code",
   "execution_count": 66,
   "metadata": {},
   "outputs": [],
   "source": [
    "raw_csv_data = np.loadtxt('Audobook_data.csv', delimiter = ',')"
   ]
  },
  {
   "cell_type": "code",
   "execution_count": 67,
   "metadata": {},
   "outputs": [
    {
     "output_type": "stream",
     "name": "stdout",
     "text": "(14084, 12)\n"
    }
   ],
   "source": [
    "print(raw_csv_data.shape)"
   ]
  },
  {
   "cell_type": "code",
   "execution_count": 68,
   "metadata": {},
   "outputs": [],
   "source": [
    "unscaled_inputs_all = raw_csv_data[:,1:-1]\n",
    "targets_all = raw_csv_data[:,-1]"
   ]
  },
  {
   "cell_type": "code",
   "execution_count": 69,
   "metadata": {},
   "outputs": [],
   "source": [
    "# Balance the dataset\n",
    "num_one_targets = int(np.sum(targets_all))\n",
    "zero_targets_counter = 0\n",
    "indices_to_remove = []\n",
    "for i in range(targets_all.shape[0]):\n",
    "    if targets_all[i] ==0:\n",
    "        zero_targets_counter += 1\n",
    "        if zero_targets_counter > num_one_targets:\n",
    "            indices_to_remove.append(i)\n",
    "\n",
    "unscaled_inputs_equal_priors = np.delete(unscaled_inputs_all, indices_to_remove, axis = 0)\n",
    "targets_equal_priors = np.delete (targets_all, indices_to_remove, axis=0)"
   ]
  },
  {
   "cell_type": "code",
   "execution_count": 70,
   "metadata": {},
   "outputs": [],
   "source": [
    "# Scale inputs\n",
    "scaled_inputs = preprocessing.scale(unscaled_inputs_equal_priors)\n",
    "\n",
    "# Shuffle data\n",
    "shuffled_indices = np.arange(scaled_inputs.shape[0])\n",
    "np.random.shuffle(shuffled_indices)\n",
    "\n",
    "shuffled_inputs = scaled_inputs[shuffled_indices]\n",
    "shuffled_targets = targets_equal_priors[shuffled_indices]"
   ]
  },
  {
   "cell_type": "code",
   "execution_count": 71,
   "metadata": {},
   "outputs": [
    {
     "output_type": "stream",
     "name": "stdout",
     "text": "1783.0 3579 0.4981838502374965\n220.0 447 0.49217002237136465\n234.0 448 0.5223214285714286\n"
    }
   ],
   "source": [
    "# Split data into train, validation, test\n",
    "samples_count = shuffled_inputs.shape[0]\n",
    "\n",
    "train_samples_count = int(0.8*samples_count)\n",
    "validation_samples_count = int(0.1*samples_count)\n",
    "test_samples_count = samples_count - train_samples_count - validation_samples_count\n",
    "\n",
    "train_inputs = shuffled_inputs[:train_samples_count]\n",
    "train_targets = shuffled_targets[:train_samples_count]\n",
    "\n",
    "validation_inputs = shuffled_inputs[train_samples_count:train_samples_count+validation_samples_count]\n",
    "validation_targets = shuffled_targets[train_samples_count:train_samples_count+validation_samples_count]\n",
    "\n",
    "test_inputs = shuffled_inputs[train_samples_count+validation_samples_count:]\n",
    "test_targets = shuffled_targets[train_samples_count+validation_samples_count:]\n",
    "\n",
    "print(np.sum(train_targets), train_samples_count, np.sum(train_targets) / train_samples_count)\n",
    "print(np.sum(validation_targets), validation_samples_count, np.sum(validation_targets) / validation_samples_count)\n",
    "print(np.sum(test_targets), test_samples_count, np.sum(test_targets) / test_samples_count)"
   ]
  },
  {
   "cell_type": "code",
   "execution_count": 72,
   "metadata": {},
   "outputs": [],
   "source": [
    "np.savez('Audiobooks_data_train', inputs=train_inputs, targets=train_targets)\n",
    "np.savez('Audiobooks_data_validation', inputs=validation_inputs, targets=validation_targets)\n",
    "np.savez('Audiobooks_data_test', inputs=test_inputs, targets=test_targets)"
   ]
  },
  {
   "cell_type": "code",
   "execution_count": null,
   "metadata": {},
   "outputs": [],
   "source": []
  }
 ],
 "metadata": {
  "language_info": {
   "codemirror_mode": {
    "name": "ipython",
    "version": 3
   },
   "file_extension": ".py",
   "mimetype": "text/x-python",
   "name": "python",
   "nbconvert_exporter": "python",
   "pygments_lexer": "ipython3",
   "version": "3.8.2-final"
  },
  "orig_nbformat": 2,
  "kernelspec": {
   "name": "python3",
   "display_name": "Python 3"
  }
 },
 "nbformat": 4,
 "nbformat_minor": 2
}