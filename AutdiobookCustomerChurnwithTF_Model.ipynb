{
 "cells": [
  {
   "cell_type": "code",
   "execution_count": 1,
   "metadata": {},
   "outputs": [],
   "source": [
    "# import packges\n",
    "import numpy as np\n",
    "import tensorflow as tf"
   ]
  },
  {
   "cell_type": "code",
   "execution_count": 7,
   "metadata": {},
   "outputs": [],
   "source": [
    "# let's create a temporary variable npz, where we will store each of the three Audiobooks datasets\n",
    "npz = np.load('Audiobooks_data_train.npz')\n",
    "\n",
    "# we extract the inputs using the keyword under which we saved them\n",
    "# to ensure that they are all floats, let's also take care of that\n",
    "train_inputs = npz['inputs'].astype(np.float)\n",
    "# targets must be int because of sparse_categorical_crossentropy (we want to be able to smoothly one-hot encode them)\n",
    "train_targets = npz['targets'].astype(np.int)\n",
    "\n",
    "# we load the validation data in the temporary variable\n",
    "npz = np.load('Audiobooks_data_validation.npz')\n",
    "# we can load the inputs and the targets in the same line\n",
    "validation_inputs, validation_targets = npz['inputs'].astype(np.float), npz['targets'].astype(np.int)\n",
    "\n",
    "# we load the test data in the temporary variable\n",
    "npz = np.load('Audiobooks_data_test.npz')\n",
    "# we create 2 variables that will contain the test inputs and the test targets\n",
    "test_inputs, test_targets = npz['inputs'].astype(np.float), npz['targets'].astype(np.int)"
   ]
  },
  {
   "cell_type": "code",
   "execution_count": 8,
   "metadata": {},
   "outputs": [
    {
     "output_type": "stream",
     "name": "stdout",
     "text": "Epoch 1/100\n36/36 - 0s - loss: 0.5314 - accuracy: 0.7999 - val_loss: 0.4107 - val_accuracy: 0.8613\nEpoch 2/100\n36/36 - 0s - loss: 0.3672 - accuracy: 0.8734 - val_loss: 0.3300 - val_accuracy: 0.8747\nEpoch 3/100\n36/36 - 0s - loss: 0.3203 - accuracy: 0.8824 - val_loss: 0.3050 - val_accuracy: 0.8792\nEpoch 4/100\n36/36 - 0s - loss: 0.2994 - accuracy: 0.8868 - val_loss: 0.2909 - val_accuracy: 0.8881\nEpoch 5/100\n36/36 - 0s - loss: 0.2844 - accuracy: 0.8913 - val_loss: 0.2838 - val_accuracy: 0.8904\nEpoch 6/100\n36/36 - 0s - loss: 0.2734 - accuracy: 0.8983 - val_loss: 0.2728 - val_accuracy: 0.8859\nEpoch 7/100\n36/36 - 0s - loss: 0.2651 - accuracy: 0.8994 - val_loss: 0.2674 - val_accuracy: 0.8971\nEpoch 8/100\n36/36 - 0s - loss: 0.2577 - accuracy: 0.9025 - val_loss: 0.2614 - val_accuracy: 0.8971\nEpoch 9/100\n36/36 - 0s - loss: 0.2522 - accuracy: 0.9033 - val_loss: 0.2616 - val_accuracy: 0.8993\nEpoch 10/100\n36/36 - 0s - loss: 0.2485 - accuracy: 0.9081 - val_loss: 0.2580 - val_accuracy: 0.9016\nEpoch 11/100\n36/36 - 0s - loss: 0.2485 - accuracy: 0.9072 - val_loss: 0.2548 - val_accuracy: 0.9016\nEpoch 12/100\n36/36 - 0s - loss: 0.2430 - accuracy: 0.9086 - val_loss: 0.2565 - val_accuracy: 0.9016\nEpoch 13/100\n36/36 - 0s - loss: 0.2431 - accuracy: 0.9078 - val_loss: 0.2558 - val_accuracy: 0.9083\n"
    },
    {
     "output_type": "execute_result",
     "data": {
      "text/plain": "<tensorflow.python.keras.callbacks.History at 0x1fcd1feb6d0>"
     },
     "metadata": {},
     "execution_count": 8
    }
   ],
   "source": [
    "# Set the input and output sizes\n",
    "input_size = 10\n",
    "output_size = 2\n",
    "# Use same hidden layer size for both hidden layers. Not a necessity.\n",
    "hidden_layer_size = 50\n",
    "    \n",
    "# define how the model will look like\n",
    "model = tf.keras.Sequential([\n",
    "    tf.keras.layers.Dense(hidden_layer_size, activation='relu'), # 1st hidden layer\n",
    "    tf.keras.layers.Dense(hidden_layer_size, activation='relu'), # 2nd hidden layer\n",
    "    tf.keras.layers.Dense(output_size, activation='softmax') # output layer\n",
    "])\n",
    "\n",
    "\n",
    "### Choose the optimizer and the loss function\n",
    "model.compile(optimizer='adam', loss='sparse_categorical_crossentropy', metrics=['accuracy'])\n",
    "\n",
    "\n",
    "# Train model\n",
    "# set the batch size\n",
    "batch_size = 100\n",
    "\n",
    "# set a maximum number of training epochs\n",
    "max_epochs = 100\n",
    "\n",
    "# set an early stopping mechanism\n",
    "# let's set patience=2, to be a bit tolerant against random validation loss increases\n",
    "early_stopping = tf.keras.callbacks.EarlyStopping(patience=2)\n",
    "\n",
    "# fit the model\n",
    "# note that this time the train, validation and test data are not iterable\n",
    "model.fit(train_inputs, # train inputs\n",
    "          train_targets, # train targets\n",
    "          batch_size=batch_size, # batch size\n",
    "          epochs=max_epochs, # epochs that we will train for (assuming early stopping doesn't kick in)\n",
    "          # callbacks are functions called by a task when a task is completed\n",
    "          # task here is to check if val_loss is increasing\n",
    "          callbacks=[early_stopping], # early stopping\n",
    "          validation_data=(validation_inputs, validation_targets), # validation data\n",
    "          verbose = 2 # making sure we get enough information about the training process\n",
    "          )  "
   ]
  },
  {
   "cell_type": "code",
   "execution_count": 9,
   "metadata": {},
   "outputs": [
    {
     "output_type": "stream",
     "name": "stdout",
     "text": "14/14 [==============================] - 0s 1ms/step - loss: 0.2553 - accuracy: 0.9107\n"
    }
   ],
   "source": [
    "# test model\n",
    "test_loss, test_accurace =model.evaluate(test_inputs, test_targets)"
   ]
  },
  {
   "cell_type": "code",
   "execution_count": null,
   "metadata": {},
   "outputs": [],
   "source": []
  }
 ],
 "metadata": {
  "language_info": {
   "codemirror_mode": {
    "name": "ipython",
    "version": 3
   },
   "file_extension": ".py",
   "mimetype": "text/x-python",
   "name": "python",
   "nbconvert_exporter": "python",
   "pygments_lexer": "ipython3",
   "version": "3.8.2-final"
  },
  "orig_nbformat": 2,
  "kernelspec": {
   "name": "python3",
   "display_name": "Python 3"
  }
 },
 "nbformat": 4,
 "nbformat_minor": 2
}